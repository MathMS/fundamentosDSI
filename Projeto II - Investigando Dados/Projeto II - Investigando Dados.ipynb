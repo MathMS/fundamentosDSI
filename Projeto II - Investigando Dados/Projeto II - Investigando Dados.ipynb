{
 "cells": [
  {
   "cell_type": "markdown",
   "metadata": {},
   "source": [
    "# Introdução\n",
    "O relatório visa analisar os dados dos passageiros que estavam no acidente do Titanic. E com isso responder algumas questões relevantes que podem ser retirada dos dados oferecidos.Para isso as perguntas respondidas foram:\n",
    "\n",
    "1. Quantas pessoas sobreviveram ao acidente? E quantas não sobreviveram?\n",
    "2. Qual a faixa etária dos que estavam no Titanic?\n",
    "3. Qual a média de sobrevivência por idade?\n",
    "4. Qual o sexo dos que estavam no Titanic?\n",
    "5. Qual a média de sobreviventes por sexo?"
   ]
  },
  {
   "cell_type": "markdown",
   "metadata": {},
   "source": [
    "# 1° Etapa\n",
    "### Importando bibliotecas"
   ]
  },
  {
   "cell_type": "code",
   "execution_count": 1,
   "metadata": {},
   "outputs": [],
   "source": [
    "import numpy as np\n",
    "import pandas as pd\n",
    "import matplotlib.pyplot as plt\n",
    "import seaborn as sns"
   ]
  },
  {
   "cell_type": "markdown",
   "metadata": {},
   "source": [
    "# 2° Etapa\n",
    "### Lendo o dataset"
   ]
  },
  {
   "cell_type": "code",
   "execution_count": 2,
   "metadata": {},
   "outputs": [],
   "source": [
    "titanic = pd.read_csv('titanic-data-6.csv')"
   ]
  },
  {
   "cell_type": "markdown",
   "metadata": {},
   "source": [
    "###  Mostrando a estrutura da tabela"
   ]
  },
  {
   "cell_type": "code",
   "execution_count": 3,
   "metadata": {
    "scrolled": true
   },
   "outputs": [
    {
     "data": {
      "text/html": [
       "<div>\n",
       "<style scoped>\n",
       "    .dataframe tbody tr th:only-of-type {\n",
       "        vertical-align: middle;\n",
       "    }\n",
       "\n",
       "    .dataframe tbody tr th {\n",
       "        vertical-align: top;\n",
       "    }\n",
       "\n",
       "    .dataframe thead th {\n",
       "        text-align: right;\n",
       "    }\n",
       "</style>\n",
       "<table border=\"1\" class=\"dataframe\">\n",
       "  <thead>\n",
       "    <tr style=\"text-align: right;\">\n",
       "      <th></th>\n",
       "      <th>PassengerId</th>\n",
       "      <th>Survived</th>\n",
       "      <th>Pclass</th>\n",
       "      <th>Name</th>\n",
       "      <th>Sex</th>\n",
       "      <th>Age</th>\n",
       "      <th>SibSp</th>\n",
       "      <th>Parch</th>\n",
       "      <th>Ticket</th>\n",
       "      <th>Fare</th>\n",
       "      <th>Cabin</th>\n",
       "      <th>Embarked</th>\n",
       "    </tr>\n",
       "  </thead>\n",
       "  <tbody>\n",
       "    <tr>\n",
       "      <th>0</th>\n",
       "      <td>1</td>\n",
       "      <td>0</td>\n",
       "      <td>3</td>\n",
       "      <td>Braund, Mr. Owen Harris</td>\n",
       "      <td>male</td>\n",
       "      <td>22.0</td>\n",
       "      <td>1</td>\n",
       "      <td>0</td>\n",
       "      <td>A/5 21171</td>\n",
       "      <td>7.2500</td>\n",
       "      <td>NaN</td>\n",
       "      <td>S</td>\n",
       "    </tr>\n",
       "    <tr>\n",
       "      <th>1</th>\n",
       "      <td>2</td>\n",
       "      <td>1</td>\n",
       "      <td>1</td>\n",
       "      <td>Cumings, Mrs. John Bradley (Florence Briggs Th...</td>\n",
       "      <td>female</td>\n",
       "      <td>38.0</td>\n",
       "      <td>1</td>\n",
       "      <td>0</td>\n",
       "      <td>PC 17599</td>\n",
       "      <td>71.2833</td>\n",
       "      <td>C85</td>\n",
       "      <td>C</td>\n",
       "    </tr>\n",
       "    <tr>\n",
       "      <th>2</th>\n",
       "      <td>3</td>\n",
       "      <td>1</td>\n",
       "      <td>3</td>\n",
       "      <td>Heikkinen, Miss. Laina</td>\n",
       "      <td>female</td>\n",
       "      <td>26.0</td>\n",
       "      <td>0</td>\n",
       "      <td>0</td>\n",
       "      <td>STON/O2. 3101282</td>\n",
       "      <td>7.9250</td>\n",
       "      <td>NaN</td>\n",
       "      <td>S</td>\n",
       "    </tr>\n",
       "    <tr>\n",
       "      <th>3</th>\n",
       "      <td>4</td>\n",
       "      <td>1</td>\n",
       "      <td>1</td>\n",
       "      <td>Futrelle, Mrs. Jacques Heath (Lily May Peel)</td>\n",
       "      <td>female</td>\n",
       "      <td>35.0</td>\n",
       "      <td>1</td>\n",
       "      <td>0</td>\n",
       "      <td>113803</td>\n",
       "      <td>53.1000</td>\n",
       "      <td>C123</td>\n",
       "      <td>S</td>\n",
       "    </tr>\n",
       "    <tr>\n",
       "      <th>4</th>\n",
       "      <td>5</td>\n",
       "      <td>0</td>\n",
       "      <td>3</td>\n",
       "      <td>Allen, Mr. William Henry</td>\n",
       "      <td>male</td>\n",
       "      <td>35.0</td>\n",
       "      <td>0</td>\n",
       "      <td>0</td>\n",
       "      <td>373450</td>\n",
       "      <td>8.0500</td>\n",
       "      <td>NaN</td>\n",
       "      <td>S</td>\n",
       "    </tr>\n",
       "  </tbody>\n",
       "</table>\n",
       "</div>"
      ],
      "text/plain": [
       "   PassengerId  Survived  Pclass  \\\n",
       "0            1         0       3   \n",
       "1            2         1       1   \n",
       "2            3         1       3   \n",
       "3            4         1       1   \n",
       "4            5         0       3   \n",
       "\n",
       "                                                Name     Sex   Age  SibSp  \\\n",
       "0                            Braund, Mr. Owen Harris    male  22.0      1   \n",
       "1  Cumings, Mrs. John Bradley (Florence Briggs Th...  female  38.0      1   \n",
       "2                             Heikkinen, Miss. Laina  female  26.0      0   \n",
       "3       Futrelle, Mrs. Jacques Heath (Lily May Peel)  female  35.0      1   \n",
       "4                           Allen, Mr. William Henry    male  35.0      0   \n",
       "\n",
       "   Parch            Ticket     Fare Cabin Embarked  \n",
       "0      0         A/5 21171   7.2500   NaN        S  \n",
       "1      0          PC 17599  71.2833   C85        C  \n",
       "2      0  STON/O2. 3101282   7.9250   NaN        S  \n",
       "3      0            113803  53.1000  C123        S  \n",
       "4      0            373450   8.0500   NaN        S  "
      ]
     },
     "execution_count": 3,
     "metadata": {},
     "output_type": "execute_result"
    }
   ],
   "source": [
    "titanic.head()"
   ]
  },
  {
   "cell_type": "markdown",
   "metadata": {},
   "source": [
    "- Verificando valores faltantes."
   ]
  },
  {
   "cell_type": "code",
   "execution_count": 4,
   "metadata": {},
   "outputs": [
    {
     "data": {
      "text/plain": [
       "PassengerId      0\n",
       "Survived         0\n",
       "Pclass           0\n",
       "Name             0\n",
       "Sex              0\n",
       "Age            177\n",
       "SibSp            0\n",
       "Parch            0\n",
       "Ticket           0\n",
       "Fare             0\n",
       "Cabin          687\n",
       "Embarked         2\n",
       "dtype: int64"
      ]
     },
     "execution_count": 4,
     "metadata": {},
     "output_type": "execute_result"
    }
   ],
   "source": [
    "titanic.isnull().sum()"
   ]
  },
  {
   "cell_type": "markdown",
   "metadata": {},
   "source": [
    "# 3° Etapa:\n",
    "### Limpando dados\n",
    "\n",
    "Excluindo algumas colunas que não serão utilizadas no momento: \n",
    "\n",
    "- Ticket;\n",
    "- Pclass;\n",
    "- Cabin;\n",
    "- Fare;\n",
    "- PassengerID; \n",
    "- SibSp.\n",
    "\n",
    "Também realizado uma média da idade para preencher os valores vazios na coluna 'Age'"
   ]
  },
  {
   "cell_type": "code",
   "execution_count": 5,
   "metadata": {
    "scrolled": true
   },
   "outputs": [
    {
     "data": {
      "text/html": [
       "<div>\n",
       "<style scoped>\n",
       "    .dataframe tbody tr th:only-of-type {\n",
       "        vertical-align: middle;\n",
       "    }\n",
       "\n",
       "    .dataframe tbody tr th {\n",
       "        vertical-align: top;\n",
       "    }\n",
       "\n",
       "    .dataframe thead th {\n",
       "        text-align: right;\n",
       "    }\n",
       "</style>\n",
       "<table border=\"1\" class=\"dataframe\">\n",
       "  <thead>\n",
       "    <tr style=\"text-align: right;\">\n",
       "      <th></th>\n",
       "      <th>Survived</th>\n",
       "      <th>Name</th>\n",
       "      <th>Sex</th>\n",
       "      <th>Age</th>\n",
       "      <th>Parch</th>\n",
       "    </tr>\n",
       "  </thead>\n",
       "  <tbody>\n",
       "    <tr>\n",
       "      <th>0</th>\n",
       "      <td>0</td>\n",
       "      <td>Braund, Mr. Owen Harris</td>\n",
       "      <td>male</td>\n",
       "      <td>22.0</td>\n",
       "      <td>0</td>\n",
       "    </tr>\n",
       "    <tr>\n",
       "      <th>1</th>\n",
       "      <td>1</td>\n",
       "      <td>Cumings, Mrs. John Bradley (Florence Briggs Th...</td>\n",
       "      <td>female</td>\n",
       "      <td>38.0</td>\n",
       "      <td>0</td>\n",
       "    </tr>\n",
       "    <tr>\n",
       "      <th>2</th>\n",
       "      <td>1</td>\n",
       "      <td>Heikkinen, Miss. Laina</td>\n",
       "      <td>female</td>\n",
       "      <td>26.0</td>\n",
       "      <td>0</td>\n",
       "    </tr>\n",
       "    <tr>\n",
       "      <th>3</th>\n",
       "      <td>1</td>\n",
       "      <td>Futrelle, Mrs. Jacques Heath (Lily May Peel)</td>\n",
       "      <td>female</td>\n",
       "      <td>35.0</td>\n",
       "      <td>0</td>\n",
       "    </tr>\n",
       "    <tr>\n",
       "      <th>4</th>\n",
       "      <td>0</td>\n",
       "      <td>Allen, Mr. William Henry</td>\n",
       "      <td>male</td>\n",
       "      <td>35.0</td>\n",
       "      <td>0</td>\n",
       "    </tr>\n",
       "  </tbody>\n",
       "</table>\n",
       "</div>"
      ],
      "text/plain": [
       "   Survived                                               Name     Sex   Age  \\\n",
       "0         0                            Braund, Mr. Owen Harris    male  22.0   \n",
       "1         1  Cumings, Mrs. John Bradley (Florence Briggs Th...  female  38.0   \n",
       "2         1                             Heikkinen, Miss. Laina  female  26.0   \n",
       "3         1       Futrelle, Mrs. Jacques Heath (Lily May Peel)  female  35.0   \n",
       "4         0                           Allen, Mr. William Henry    male  35.0   \n",
       "\n",
       "   Parch  \n",
       "0      0  \n",
       "1      0  \n",
       "2      0  \n",
       "3      0  \n",
       "4      0  "
      ]
     },
     "execution_count": 5,
     "metadata": {},
     "output_type": "execute_result"
    }
   ],
   "source": [
    "#Limpa Coluna e Valores: Recebe a coluna desejada e o valor a ser filtrado e remove os itens com estas características.\n",
    "def limpa(coluna,valor):\n",
    "    titanic[coluna].fillna(valor,inplace=True)\n",
    "    return titanic.head(6)\n",
    "    \n",
    "# Remove coluna: Retira as colunas indicadas na passagem de parametros\n",
    "def remove(colunas):\n",
    "    for i in range(0, len(colunas)):\n",
    "        titanic.drop([colunas[i]],axis = 1, inplace = True)\n",
    "    return titanic.head()\n",
    "\n",
    "# Completando as idades que faltam com a média de idade\n",
    "media = titanic['Age'].mean()\n",
    "titanic['Age'].fillna(media, inplace=True)\n",
    "\n",
    "colunas = ['Pclass','Fare','Ticket','Cabin','PassengerId','SibSp', 'Embarked']\n",
    "remove(colunas)"
   ]
  },
  {
   "cell_type": "markdown",
   "metadata": {},
   "source": [
    "### Conferindo novamente os dados faltantes."
   ]
  },
  {
   "cell_type": "code",
   "execution_count": 6,
   "metadata": {},
   "outputs": [
    {
     "data": {
      "text/plain": [
       "Survived    0\n",
       "Name        0\n",
       "Sex         0\n",
       "Age         0\n",
       "Parch       0\n",
       "dtype: int64"
      ]
     },
     "execution_count": 6,
     "metadata": {},
     "output_type": "execute_result"
    }
   ],
   "source": [
    "titanic.isnull().sum()"
   ]
  },
  {
   "cell_type": "markdown",
   "metadata": {},
   "source": [
    "# 4° Etapa:\n",
    "### Fazendo perguntas"
   ]
  },
  {
   "cell_type": "markdown",
   "metadata": {},
   "source": [
    "# Pergunta 1: Qual a porcentagem dos passageiros sobreviventes? "
   ]
  },
  {
   "cell_type": "code",
   "execution_count": 7,
   "metadata": {},
   "outputs": [
    {
     "name": "stdout",
     "output_type": "stream",
     "text": [
      "Sobreviventes     : 342\n",
      "Não Sobreviventes : 549\n"
     ]
    },
    {
     "data": {
      "text/plain": [
       "Text(0, 0.5, '')"
      ]
     },
     "execution_count": 7,
     "metadata": {},
     "output_type": "execute_result"
    },
    {
     "data": {
      "image/png": "[encoded data removed]",
      "text/plain": [
       "<Figure size 360x360 with 1 Axes>"
      ]
     },
     "metadata": {},
     "output_type": "display_data"
    }
   ],
   "source": [
    "#Cria um mapa indicando os Sobreviventes e não sobreviventes\n",
    "titanic['Not Survived'] = titanic['Survived'].map({0:1,1:0})\n",
    "\n",
    "#Conta os valores encontrados e exibe na tela\n",
    "print('Sobreviventes     :', titanic['Survived'].value_counts()[1])\n",
    "print('Não Sobreviventes :', titanic['Survived'].value_counts()[0])\n",
    "\n",
    "#Gerando o grafico\n",
    "titanic['Survived'].value_counts().plot.pie(colors=('tab:orange', 'tab:blue'),title='Qual a porcentagem dos passageiros sobreviventes?',fontsize=13, shadow=True,startangle=90,autopct='%1.1f%%',\n",
    "labels=('Não sobreviventes','Sobreviventes'),\n",
    "figsize=(5,5)).set_ylabel('')"
   ]
  },
  {
   "cell_type": "markdown",
   "metadata": {},
   "source": [
    "- Podemos verificar pelo gráfico que apenas 38,4% dos passageiros do Titanic sobreviveram ao naufrágio.\n",
    "\n",
    "- Mesmo o Titanic sendo considerado o navio mais luxuoso e seguro daquela época, inclusive gerando ideia de que ele seria \"inafundável\", podemos ver que a maior parte dos passageiros infelizmente morreu na tragédia."
   ]
  },
  {
   "cell_type": "markdown",
   "metadata": {},
   "source": [
    "# Pergunta 2: Qual a faixa etária dos passageiros do Titanic? "
   ]
  },
  {
   "cell_type": "code",
   "execution_count": 8,
   "metadata": {},
   "outputs": [],
   "source": [
    "titanic_idade = titanic.copy()\n",
    "titanic_idade.drop(titanic[titanic['Age'].isnull() == True].index ,inplace=True)"
   ]
  },
  {
   "cell_type": "code",
   "execution_count": 9,
   "metadata": {
    "scrolled": true
   },
   "outputs": [
    {
     "data": {
      "text/plain": [
       "Text(0, 0.5, 'Frequência')"
      ]
     },
     "execution_count": 9,
     "metadata": {},
     "output_type": "execute_result"
    },
    {
     "data": {
      "text/plain": [
       "<Figure size 432x288 with 0 Axes>"
      ]
     },
     "metadata": {},
     "output_type": "display_data"
    },
    {
     "data": {
      "image/png": "[encoded data removed]",
      "text/plain": [
       "<Figure size 720x288 with 1 Axes>"
      ]
     },
     "metadata": {
      "needs_background": "light"
     },
     "output_type": "display_data"
    }
   ],
   "source": [
    "plt.figure();\n",
    "titanic_idade.hist(column='Age', color=('orange'), alpha=0.8, bins=10, figsize=(10,4))\n",
    "plt.title('Faixa Etária dos Passageiros')\n",
    "plt.xlabel('Idade')\n",
    "plt.ylabel('Frequência')"
   ]
  },
  {
   "cell_type": "markdown",
   "metadata": {},
   "source": [
    "- Pelo histograma, concluimos que a maior parte dos passageiros girava na faixa etária entre 20 e 40 anos, aproximadamente.\n",
    "- Assim podemos concluir que o navio transportava todos os tipos de pessoas de diferentes idades."
   ]
  },
  {
   "cell_type": "markdown",
   "metadata": {},
   "source": [
    "# Pergunta 3: Qual a média de sobrevivência por idade?"
   ]
  },
  {
   "cell_type": "code",
   "execution_count": 10,
   "metadata": {},
   "outputs": [
    {
     "data": {
      "text/plain": [
       "(Text(0, 0.5, ''), Text(0.5, 0, ''))"
      ]
     },
     "execution_count": 10,
     "metadata": {},
     "output_type": "execute_result"
    },
    {
     "data": {
      "image/png": "[encoded data removed]",
      "text/plain": [
       "<Figure size 720x180 with 1 Axes>"
      ]
     },
     "metadata": {
      "needs_background": "light"
     },
     "output_type": "display_data"
    }
   ],
   "source": [
    "titanic_idade['Crianca_Adulto'] = 0\n",
    "titanic_idade.loc[titanic_idade[titanic_idade['Age'] < 18].index, 'Crianca_Adulto'] = 'Crianças'\n",
    "titanic_idade.loc[titanic_idade[titanic_idade['Age'] >= 18].index, 'Crianca_Adulto'] = 'Adulto'\n",
    "titanic_idade.groupby('Crianca_Adulto')[['Survived']].mean()\n",
    "\n",
    "titanic_idade.groupby('Crianca_Adulto')['Survived'].mean().plot.barh(title='4.3. Média de Sobrevivência por Idade', figsize=(10,2.5),\n",
    "                                                                color=('tab:orange','tab:blue')).set_ylabel(''),plt.xlabel('')\n"
   ]
  },
  {
   "cell_type": "markdown",
   "metadata": {},
   "source": [
    "- Podemos ver que os que mais sobreviveram a tragédia foram menores de idade, possívelmente crianças.\n",
    "- Já os adultos, possívelmente pela regra de mulheres e crianças primeiros fez com que proporcionalmente as criaças obtiveram mais sobreviventes."
   ]
  },
  {
   "cell_type": "markdown",
   "metadata": {},
   "source": [
    "# Pergunta 4: Qual o sexo dos passageiros do Titanic?"
   ]
  },
  {
   "cell_type": "code",
   "execution_count": 11,
   "metadata": {},
   "outputs": [
    {
     "name": "stdout",
     "output_type": "stream",
     "text": [
      "Total de Passageiros 891: Homens: 577, Mulheres: 314\n"
     ]
    }
   ],
   "source": [
    "masculino = titanic.query('Sex == \"male\"').shape[0]\n",
    "feminino = titanic.query('Sex == \"female\"').shape[0]\n",
    "total_sex = masculino+feminino\n",
    "print('Total de Passageiros {}: Homens: {}, Mulheres: {}'.format(total_sex, masculino,feminino))"
   ]
  },
  {
   "cell_type": "code",
   "execution_count": 12,
   "metadata": {},
   "outputs": [
    {
     "data": {
      "image/png": "[encoded data removed]",
      "text/plain": [
       "<Figure size 432x288 with 1 Axes>"
      ]
     },
     "metadata": {},
     "output_type": "display_data"
    }
   ],
   "source": [
    "sobreviv = titanic.query('Survived == \"1\"')\n",
    "n_sobreviv = titanic.query('Survived == \"0\"')\n",
    "qtd_sobreviv = sobreviv.shape[0]\n",
    "qtd_n_sobreviv = n_sobreviv.shape[0]\n",
    "x_list=[qtd_sobreviv,qtd_n_sobreviv]\n",
    "x_sexo=[masculino,feminino]\n",
    "labels_sex=['Mulheres: {}'.format(feminino), 'Homens: {}'.format(masculino)]\n",
    "plt.axis('equal')\n",
    "plt.pie(x_list, labels=labels_sex, autopct='%1.1f%%')\n",
    "plt.title('Passageiros: Distribuição por sexo')\n",
    "plt.show()"
   ]
  },
  {
   "cell_type": "markdown",
   "metadata": {},
   "source": [
    "- Verificando o gráfico, podemos observar que a maior parte dos passageiros eram do sexo masculino.\n",
    "- Com essa observação me veio a curiosidade de que os homens em números deveriam ter sobrevivido a mais do que as mulheres, então para testar o fato, criei a pergunta de \"Qual a sobrevivência por sexo ?\"."
   ]
  },
  {
   "cell_type": "markdown",
   "metadata": {},
   "source": [
    "# Pergunta 5: Qual a sobrevivência por sexo?"
   ]
  },
  {
   "cell_type": "code",
   "execution_count": 13,
   "metadata": {},
   "outputs": [
    {
     "data": {
      "image/png": "[encoded data removed]",
      "text/plain": [
       "<Figure size 432x288 with 1 Axes>"
      ]
     },
     "metadata": {},
     "output_type": "display_data"
    }
   ],
   "source": [
    "sob_homens = sobreviv.query('Sex == \"male\"').shape[0]\n",
    "sob_mulheres = sobreviv.query('Sex == \"female\"').shape[0]\n",
    "x_list_sexo=[sob_homens,sob_mulheres]\n",
    "labels_sex=['Homens: {}'.format(sob_homens),'Mulheres: {}'.format(sob_mulheres) ]\n",
    "plt.axis('equal')\n",
    "plt.pie(x_list_sexo, labels=labels_sex, autopct='%1.1f%%')\n",
    "plt.title('Sobreviventes por sexo')\n",
    "plt.show()"
   ]
  },
  {
   "cell_type": "code",
   "execution_count": 14,
   "metadata": {},
   "outputs": [
    {
     "data": {
      "image/png": "[encoded data removed]",
      "text/plain": [
       "<Figure size 432x288 with 1 Axes>"
      ]
     },
     "metadata": {
      "needs_background": "light"
     },
     "output_type": "display_data"
    }
   ],
   "source": [
    "sns.violinplot(x=\"Survived\", y=\"Age\", hue=\"Sex\", data=titanic, split=True,\n",
    "inner=\"quart\")\n",
    "sns.despine(left=True)"
   ]
  },
  {
   "cell_type": "markdown",
   "metadata": {},
   "source": [
    "- Com esses dois gráficos podemos perceber que apesar do gráfico da pergunta 4, nos dizer que o número de homens é maior que o de mulheres, ainda sim, o número de sobreviventes do sexo feminino é maior que o número de sobreviventes do sexo masculino."
   ]
  },
  {
   "cell_type": "markdown",
   "metadata": {},
   "source": [
    "# Conclusões\n",
    "\n",
    "Podemos perceber com os dados deixados para estudarmos que que apenas 38,4% dos passageiros do Titanic sobreviveram, o que é exatamente 342 pessoas em um total de 891 passageiros.\n",
    "\n",
    "Foi identificado também que as crianças apesar de serem um número maior, ainda sim tiveram uma maior taxa de sobrevivência.\n",
    "\n",
    "As mulheres, assim como as crianças, apesar de serem o menor número da população do navio (314 mulheres entre 577 homens), foi a que teve a maior taxa de sobrevivência, sendo 233 mulheres contra 109 homens.\n",
    "\n",
    "Possívelmente isso seria devido a aquela regra de mulheres e crianças primeiro para entrarem nos botes e se salvarem."
   ]
  },
  {
   "cell_type": "markdown",
   "metadata": {},
   "source": [
    "# Limitações\n",
    "\n",
    "- Nem todos os dados foram utilizados, o que fazem no momento eles não serem úteis para mim, por isso foram retirados do dataset\n",
    "\n",
    "- No campo 'Age' que foi um utilizado, não estava completo, faltava 177 dados de passageiros, para isso decidi realizar uma média das idades para preencher os campos que faltavam com esse valor."
   ]
  },
  {
   "cell_type": "markdown",
   "metadata": {},
   "source": [
    "# Bibliografia\n",
    "\n",
    "- Documentação do pandas: https://pandas.pydata.org/\n",
    "- Documentação Matplotlib: https://matplotlib.org\n",
    "- História Titanic: https://pt.wikipedia.org/wiki/RMS_Titanic"
   ]
  }
 ],
 "metadata": {
  "kernelspec": {
   "display_name": "Python 3",
   "language": "python",
   "name": "python3"
  },
  "language_info": {
   "codemirror_mode": {
    "name": "ipython",
    "version": 3
   },
   "file_extension": ".py",
   "mimetype": "text/x-python",
   "name": "python",
   "nbconvert_exporter": "python",
   "pygments_lexer": "ipython3",
   "version": "3.7.1"
  }
 },
 "nbformat": 4,
 "nbformat_minor": 1
}
